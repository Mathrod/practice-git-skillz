{
 "cells": [
  {
   "cell_type": "markdown",
   "id": "fac908a3-aed0-46ae-9bd3-c90e363cf63b",
   "metadata": {},
   "source": [
    "## New file"
   ]
  }
 ],
 "metadata": {
  "kernelspec": {
   "display_name": "kaartkunst",
   "language": "python",
   "name": "kaartkunst"
  },
  "language_info": {
   "codemirror_mode": {
    "name": "ipython",
    "version": 3
   },
   "file_extension": ".py",
   "mimetype": "text/x-python",
   "name": "python",
   "nbconvert_exporter": "python",
   "pygments_lexer": "ipython3",
   "version": "3.11.1"
  }
 },
 "nbformat": 4,
 "nbformat_minor": 5
}
